{
 "cells": [
  {
   "cell_type": "markdown",
   "id": "82b22f5f",
   "metadata": {
    "toc": true
   },
   "source": [
    "<h1>Table of Contents<span class=\"tocSkip\"></span></h1>\n",
    "<div class=\"toc\"><ul class=\"toc-item\"><li><span><a href=\"#Open-and-examine-the-file\" data-toc-modified-id=\"Open-and-examine-the-file-1\"><span class=\"toc-item-num\">1&nbsp;&nbsp;</span>Open and examine the file</a></span><ul class=\"toc-item\"><li><span><a href=\"#We-import-the-modules-and-libraries-necessary-for-work\" data-toc-modified-id=\"We-import-the-modules-and-libraries-necessary-for-work-1.1\"><span class=\"toc-item-num\">1.1&nbsp;&nbsp;</span>We import the modules and libraries necessary for work</a></span></li><li><span><a href=\"#Opening-the-table\" data-toc-modified-id=\"Opening-the-table-1.2\"><span class=\"toc-item-num\">1.2&nbsp;&nbsp;</span>Opening the table</a></span></li><li><span><a href=\"#Let's-review-the-basic-data-about-the-dataset\" data-toc-modified-id=\"Let's-review-the-basic-data-about-the-dataset-1.3\"><span class=\"toc-item-num\">1.3&nbsp;&nbsp;</span>Let's review the basic data about the dataset</a></span></li></ul></li><li><span><a href=\"#Divide-the-data-into-samples\" data-toc-modified-id=\"Divide-the-data-into-samples-2\"><span class=\"toc-item-num\">2&nbsp;&nbsp;</span>Divide the data into samples</a></span><ul class=\"toc-item\"><li><span><a href=\"#Let's-denote-the-features-as-features,-and-the-target-feature-as-target\" data-toc-modified-id=\"Let's-denote-the-features-as-features,-and-the-target-feature-as-target-2.1\"><span class=\"toc-item-num\">2.1&nbsp;&nbsp;</span>Let's denote the features as <code>features</code>, and the target feature as <code>target</code></a></span></li><li><span><a href=\"#We-divide-the-initial-data-into-training,-validation-and-test-sets.-Let's-take-the-ratio-of-60/20/20%,-respectively\" data-toc-modified-id=\"We-divide-the-initial-data-into-training,-validation-and-test-sets.-Let's-take-the-ratio-of-60/20/20%,-respectively-2.2\"><span class=\"toc-item-num\">2.2&nbsp;&nbsp;</span>We divide the initial data into training, validation and test sets. Let's take the ratio of 60/20/20%, respectively</a></span></li></ul></li><li><span><a href=\"#Exploring-Models\" data-toc-modified-id=\"Exploring-Models-3\"><span class=\"toc-item-num\">3&nbsp;&nbsp;</span>Exploring Models</a></span><ul class=\"toc-item\"><li><span><a href=\"#Using-a-decision-tree\" data-toc-modified-id=\"Using-a-decision-tree-3.1\"><span class=\"toc-item-num\">3.1&nbsp;&nbsp;</span>Using a decision tree</a></span></li><li><span><a href=\"#Let's-try-random-forest\" data-toc-modified-id=\"Let's-try-random-forest-3.2\"><span class=\"toc-item-num\">3.2&nbsp;&nbsp;</span>Let's try random forest</a></span></li><li><span><a href=\"#Now-let's-check-the-logistic-regression\" data-toc-modified-id=\"Now-let's-check-the-logistic-regression-3.3\"><span class=\"toc-item-num\">3.3&nbsp;&nbsp;</span>Now let's check the logistic regression</a></span></li></ul></li><li><span><a href=\"#Let's-check-the-model-on-the-test-set\" data-toc-modified-id=\"Let's-check-the-model-on-the-test-set-4\"><span class=\"toc-item-num\">4&nbsp;&nbsp;</span>Let's check the model on the test set</a></span></li><li><span><a href=\"#Conclusion\" data-toc-modified-id=\"Conclusion-5\"><span class=\"toc-item-num\">5&nbsp;&nbsp;</span>Conclusion</a></span></li></ul></div>"
   ]
  },
  {
   "cell_type": "markdown",
   "id": "88adef4c",
   "metadata": {},
   "source": [
    "# Tariff recommendation"
   ]
  },
  {
   "cell_type": "markdown",
   "id": "48179aab",
   "metadata": {},
   "source": [
    "The mobile operator \"Megaline\" found out that many customers use archival tariffs. They want to build a system that can analyze customer behavior and offer users a new tariff: \"Smart\" or \"Ultra\".\n",
    "\n",
    "We are faced with the task of classification.\n",
    "\n",
    "\n",
    "\n",
    "We have data on the behavior of customers who have already switched to these tariffs (from the draft course \"Statistical Data Analysis\"). You need to build a model for the classification problem that will select the appropriate rate. Data preprocessing is not required - we have already done it.\n",
    "\n",
    "Let's build a model with the maximum *accuracy* value. Let's check *accuracy* on the test set.\n",
    "\n",
    "Let's open the data file and examine it.\n",
    "\n",
    "We divide the initial data into training, validation and test sets.\n",
    "\n",
    "We investigate the quality of different models by changing the hyperparameters. Let us briefly write the conclusions of the study.\n",
    "\n",
    "Let's check the quality of the model on a test sample.\n",
    "\n",
    "\n",
    "Data Description\n",
    "\n",
    "Each object in the data set is information about the behavior of one user per month. Known:\n",
    "\n",
    "calls — number of calls,\n",
    "\n",
    "minutes — total duration of calls in minutes,\n",
    "\n",
    "messages — number of sms messages,\n",
    "\n",
    "mb_used - Internet traffic used in Mb,\n",
    "\n",
    "is_ultra - what tariff did you use during the month (\"Ultra\" - 1, \"Smart\" - 0)."
   ]
  },
  {
   "cell_type": "markdown",
   "id": "ca194f3d",
   "metadata": {},
   "source": [
    "## Open and examine the file"
   ]
  },
  {
   "cell_type": "markdown",
   "id": "37a08826",
   "metadata": {},
   "source": [
    "### We import the modules and libraries necessary for work"
   ]
  },
  {
   "cell_type": "code",
   "execution_count": 1,
   "id": "5dd626ff",
   "metadata": {
    "ExecuteTime": {
     "end_time": "2023-09-04T19:13:38.035924Z",
     "start_time": "2023-09-04T19:13:34.076121Z"
    }
   },
   "outputs": [],
   "source": [
    "import pandas as pd\n",
    "from sklearn.tree import DecisionTreeClassifier\n",
    "from sklearn.ensemble import RandomForestClassifier\n",
    "from sklearn.linear_model import LogisticRegression\n",
    "from joblib import dump\n",
    "from sklearn.model_selection import train_test_split\n",
    "from sklearn.metrics import mean_squared_error\n",
    "from sklearn.metrics import accuracy_score"
   ]
  },
  {
   "cell_type": "markdown",
   "id": "f4caa08e",
   "metadata": {},
   "source": [
    "### Opening the table"
   ]
  },
  {
   "cell_type": "code",
   "execution_count": 2,
   "id": "6074fd24",
   "metadata": {
    "ExecuteTime": {
     "end_time": "2023-09-04T19:13:38.667251Z",
     "start_time": "2023-09-04T19:13:38.042174Z"
    }
   },
   "outputs": [],
   "source": [
    "try:\n",
    "    data = pd.read_csv('/datasets/users_behavior.csv', sep=',')\n",
    "except:\n",
    "    data = pd.read_csv('https://code.s3.yandex.net/datasets/users_behavior.csv', sep=',')"
   ]
  },
  {
   "cell_type": "code",
   "execution_count": 3,
   "id": "02847f15",
   "metadata": {
    "ExecuteTime": {
     "end_time": "2023-09-04T19:13:38.710905Z",
     "start_time": "2023-09-04T19:13:38.671324Z"
    },
    "scrolled": true
   },
   "outputs": [
    {
     "data": {
      "text/html": [
       "<div>\n",
       "<style scoped>\n",
       "    .dataframe tbody tr th:only-of-type {\n",
       "        vertical-align: middle;\n",
       "    }\n",
       "\n",
       "    .dataframe tbody tr th {\n",
       "        vertical-align: top;\n",
       "    }\n",
       "\n",
       "    .dataframe thead th {\n",
       "        text-align: right;\n",
       "    }\n",
       "</style>\n",
       "<table border=\"1\" class=\"dataframe\">\n",
       "  <thead>\n",
       "    <tr style=\"text-align: right;\">\n",
       "      <th></th>\n",
       "      <th>calls</th>\n",
       "      <th>minutes</th>\n",
       "      <th>messages</th>\n",
       "      <th>mb_used</th>\n",
       "      <th>is_ultra</th>\n",
       "    </tr>\n",
       "  </thead>\n",
       "  <tbody>\n",
       "    <tr>\n",
       "      <th>0</th>\n",
       "      <td>40.0</td>\n",
       "      <td>311.90</td>\n",
       "      <td>83.0</td>\n",
       "      <td>19915.42</td>\n",
       "      <td>0</td>\n",
       "    </tr>\n",
       "    <tr>\n",
       "      <th>1</th>\n",
       "      <td>85.0</td>\n",
       "      <td>516.75</td>\n",
       "      <td>56.0</td>\n",
       "      <td>22696.96</td>\n",
       "      <td>0</td>\n",
       "    </tr>\n",
       "    <tr>\n",
       "      <th>2</th>\n",
       "      <td>77.0</td>\n",
       "      <td>467.66</td>\n",
       "      <td>86.0</td>\n",
       "      <td>21060.45</td>\n",
       "      <td>0</td>\n",
       "    </tr>\n",
       "    <tr>\n",
       "      <th>3</th>\n",
       "      <td>106.0</td>\n",
       "      <td>745.53</td>\n",
       "      <td>81.0</td>\n",
       "      <td>8437.39</td>\n",
       "      <td>1</td>\n",
       "    </tr>\n",
       "    <tr>\n",
       "      <th>4</th>\n",
       "      <td>66.0</td>\n",
       "      <td>418.74</td>\n",
       "      <td>1.0</td>\n",
       "      <td>14502.75</td>\n",
       "      <td>0</td>\n",
       "    </tr>\n",
       "  </tbody>\n",
       "</table>\n",
       "</div>"
      ],
      "text/plain": [
       "   calls  minutes  messages   mb_used  is_ultra\n",
       "0   40.0   311.90      83.0  19915.42         0\n",
       "1   85.0   516.75      56.0  22696.96         0\n",
       "2   77.0   467.66      86.0  21060.45         0\n",
       "3  106.0   745.53      81.0   8437.39         1\n",
       "4   66.0   418.74       1.0  14502.75         0"
      ]
     },
     "execution_count": 3,
     "metadata": {},
     "output_type": "execute_result"
    }
   ],
   "source": [
    "data.head()"
   ]
  },
  {
   "cell_type": "markdown",
   "id": "70e5cb38",
   "metadata": {},
   "source": [
    "Each object in the data set is information about the behavior of one user per month. Known:\n",
    "\n",
    "calls — number of calls,\n",
    "\n",
    "minutes — total duration of calls in minutes,\n",
    "\n",
    "messages — number of sms messages,\n",
    "\n",
    "mb_used - Internet traffic used in Mb,\n",
    "\n",
    "is_ultra - what tariff did you use during the month (\"Ultra\" - 1, \"Smart\" - 0)."
   ]
  },
  {
   "cell_type": "markdown",
   "id": "879b34b1",
   "metadata": {},
   "source": [
    "### Let's review the basic data about the dataset"
   ]
  },
  {
   "cell_type": "code",
   "execution_count": 4,
   "id": "21c57bf7",
   "metadata": {
    "ExecuteTime": {
     "end_time": "2023-09-04T19:13:38.742254Z",
     "start_time": "2023-09-04T19:13:38.716473Z"
    }
   },
   "outputs": [
    {
     "name": "stdout",
     "output_type": "stream",
     "text": [
      "<class 'pandas.core.frame.DataFrame'>\n",
      "RangeIndex: 3214 entries, 0 to 3213\n",
      "Data columns (total 5 columns):\n",
      " #   Column    Non-Null Count  Dtype  \n",
      "---  ------    --------------  -----  \n",
      " 0   calls     3214 non-null   float64\n",
      " 1   minutes   3214 non-null   float64\n",
      " 2   messages  3214 non-null   float64\n",
      " 3   mb_used   3214 non-null   float64\n",
      " 4   is_ultra  3214 non-null   int64  \n",
      "dtypes: float64(4), int64(1)\n",
      "memory usage: 125.7 KB\n"
     ]
    }
   ],
   "source": [
    "data.info()"
   ]
  },
  {
   "cell_type": "code",
   "execution_count": 5,
   "id": "d5f43197",
   "metadata": {
    "ExecuteTime": {
     "end_time": "2023-09-04T19:13:38.789116Z",
     "start_time": "2023-09-04T19:13:38.746630Z"
    }
   },
   "outputs": [
    {
     "data": {
      "text/html": [
       "<div>\n",
       "<style scoped>\n",
       "    .dataframe tbody tr th:only-of-type {\n",
       "        vertical-align: middle;\n",
       "    }\n",
       "\n",
       "    .dataframe tbody tr th {\n",
       "        vertical-align: top;\n",
       "    }\n",
       "\n",
       "    .dataframe thead th {\n",
       "        text-align: right;\n",
       "    }\n",
       "</style>\n",
       "<table border=\"1\" class=\"dataframe\">\n",
       "  <thead>\n",
       "    <tr style=\"text-align: right;\">\n",
       "      <th></th>\n",
       "      <th>calls</th>\n",
       "      <th>minutes</th>\n",
       "      <th>messages</th>\n",
       "      <th>mb_used</th>\n",
       "      <th>is_ultra</th>\n",
       "    </tr>\n",
       "  </thead>\n",
       "  <tbody>\n",
       "    <tr>\n",
       "      <th>count</th>\n",
       "      <td>3214.000000</td>\n",
       "      <td>3214.000000</td>\n",
       "      <td>3214.000000</td>\n",
       "      <td>3214.000000</td>\n",
       "      <td>3214.000000</td>\n",
       "    </tr>\n",
       "    <tr>\n",
       "      <th>mean</th>\n",
       "      <td>63.038892</td>\n",
       "      <td>438.208787</td>\n",
       "      <td>38.281269</td>\n",
       "      <td>17207.673836</td>\n",
       "      <td>0.306472</td>\n",
       "    </tr>\n",
       "    <tr>\n",
       "      <th>std</th>\n",
       "      <td>33.236368</td>\n",
       "      <td>234.569872</td>\n",
       "      <td>36.148326</td>\n",
       "      <td>7570.968246</td>\n",
       "      <td>0.461100</td>\n",
       "    </tr>\n",
       "    <tr>\n",
       "      <th>min</th>\n",
       "      <td>0.000000</td>\n",
       "      <td>0.000000</td>\n",
       "      <td>0.000000</td>\n",
       "      <td>0.000000</td>\n",
       "      <td>0.000000</td>\n",
       "    </tr>\n",
       "    <tr>\n",
       "      <th>25%</th>\n",
       "      <td>40.000000</td>\n",
       "      <td>274.575000</td>\n",
       "      <td>9.000000</td>\n",
       "      <td>12491.902500</td>\n",
       "      <td>0.000000</td>\n",
       "    </tr>\n",
       "    <tr>\n",
       "      <th>50%</th>\n",
       "      <td>62.000000</td>\n",
       "      <td>430.600000</td>\n",
       "      <td>30.000000</td>\n",
       "      <td>16943.235000</td>\n",
       "      <td>0.000000</td>\n",
       "    </tr>\n",
       "    <tr>\n",
       "      <th>75%</th>\n",
       "      <td>82.000000</td>\n",
       "      <td>571.927500</td>\n",
       "      <td>57.000000</td>\n",
       "      <td>21424.700000</td>\n",
       "      <td>1.000000</td>\n",
       "    </tr>\n",
       "    <tr>\n",
       "      <th>max</th>\n",
       "      <td>244.000000</td>\n",
       "      <td>1632.060000</td>\n",
       "      <td>224.000000</td>\n",
       "      <td>49745.730000</td>\n",
       "      <td>1.000000</td>\n",
       "    </tr>\n",
       "  </tbody>\n",
       "</table>\n",
       "</div>"
      ],
      "text/plain": [
       "             calls      minutes     messages       mb_used     is_ultra\n",
       "count  3214.000000  3214.000000  3214.000000   3214.000000  3214.000000\n",
       "mean     63.038892   438.208787    38.281269  17207.673836     0.306472\n",
       "std      33.236368   234.569872    36.148326   7570.968246     0.461100\n",
       "min       0.000000     0.000000     0.000000      0.000000     0.000000\n",
       "25%      40.000000   274.575000     9.000000  12491.902500     0.000000\n",
       "50%      62.000000   430.600000    30.000000  16943.235000     0.000000\n",
       "75%      82.000000   571.927500    57.000000  21424.700000     1.000000\n",
       "max     244.000000  1632.060000   224.000000  49745.730000     1.000000"
      ]
     },
     "execution_count": 5,
     "metadata": {},
     "output_type": "execute_result"
    }
   ],
   "source": [
    "data.describe()"
   ]
  },
  {
   "cell_type": "code",
   "execution_count": 6,
   "id": "d3c83069",
   "metadata": {
    "ExecuteTime": {
     "end_time": "2023-09-04T19:13:38.806184Z",
     "start_time": "2023-09-04T19:13:38.793558Z"
    }
   },
   "outputs": [
    {
     "data": {
      "text/plain": [
       "calls       0\n",
       "minutes     0\n",
       "messages    0\n",
       "mb_used     0\n",
       "is_ultra    0\n",
       "dtype: int64"
      ]
     },
     "execution_count": 6,
     "metadata": {},
     "output_type": "execute_result"
    }
   ],
   "source": [
    "data.isna().sum()"
   ]
  },
  {
   "cell_type": "code",
   "execution_count": 7,
   "id": "e3a29b65",
   "metadata": {
    "ExecuteTime": {
     "end_time": "2023-09-04T19:13:38.847141Z",
     "start_time": "2023-09-04T19:13:38.810737Z"
    }
   },
   "outputs": [
    {
     "name": "stdout",
     "output_type": "stream",
     "text": [
      "<class 'pandas.core.frame.DataFrame'>\n",
      "RangeIndex: 3214 entries, 0 to 3213\n",
      "Data columns (total 5 columns):\n",
      " #   Column    Non-Null Count  Dtype  \n",
      "---  ------    --------------  -----  \n",
      " 0   calls     3214 non-null   float64\n",
      " 1   minutes   3214 non-null   float64\n",
      " 2   messages  3214 non-null   float64\n",
      " 3   mb_used   3214 non-null   float64\n",
      " 4   is_ultra  3214 non-null   int64  \n",
      "dtypes: float64(4), int64(1)\n",
      "memory usage: 125.7 KB\n"
     ]
    }
   ],
   "source": [
    "data.drop_duplicates()\n",
    "data.info()"
   ]
  },
  {
   "cell_type": "code",
   "execution_count": 8,
   "id": "7b078144",
   "metadata": {
    "ExecuteTime": {
     "end_time": "2023-09-04T19:13:38.876479Z",
     "start_time": "2023-09-04T19:13:38.851495Z"
    }
   },
   "outputs": [
    {
     "name": "stdout",
     "output_type": "stream",
     "text": [
      "69.0     60\n",
      "68.0     49\n",
      "64.0     48\n",
      "65.0     47\n",
      "77.0     47\n",
      "         ..\n",
      "157.0     1\n",
      "203.0     1\n",
      "148.0     1\n",
      "167.0     1\n",
      "168.0     1\n",
      "Name: calls, Length: 184, dtype: int64\n",
      "Average value: 63.03889234598631\n",
      "\n",
      "0.00      40\n",
      "564.01     3\n",
      "2.00       3\n",
      "1.00       3\n",
      "270.06     2\n",
      "          ..\n",
      "498.91     1\n",
      "258.82     1\n",
      "296.78     1\n",
      "336.91     1\n",
      "566.09     1\n",
      "Name: minutes, Length: 3144, dtype: int64\n",
      "Average value: 438.20878655880523\n",
      "\n",
      "0.0      497\n",
      "20.0      52\n",
      "6.0       46\n",
      "16.0      45\n",
      "17.0      44\n",
      "        ... \n",
      "180.0      1\n",
      "169.0      1\n",
      "185.0      1\n",
      "201.0      1\n",
      "170.0      1\n",
      "Name: messages, Length: 180, dtype: int64\n",
      "Average value: 38.28126944617299\n",
      "\n",
      "0.00        11\n",
      "0.01         2\n",
      "19915.42     1\n",
      "20543.85     1\n",
      "21522.45     1\n",
      "            ..\n",
      "20736.28     1\n",
      "33988.90     1\n",
      "10328.70     1\n",
      "22064.65     1\n",
      "29480.52     1\n",
      "Name: mb_used, Length: 3203, dtype: int64\n",
      "Average value: 17207.673836341008\n",
      "\n",
      "0    2229\n",
      "1     985\n",
      "Name: is_ultra, dtype: int64\n",
      "Average value: 0.30647168637212197\n",
      "\n"
     ]
    }
   ],
   "source": [
    "#data['is_ultra'].value_counts()\n",
    "for col in data.columns:\n",
    "    print(data[col].value_counts())\n",
    "    print('Average value:', data[col].mean())\n",
    "    print()"
   ]
  },
  {
   "cell_type": "markdown",
   "id": "a3465918",
   "metadata": {},
   "source": [
    "As you can see, the dataset is good, there are no null values, no duplicates. 40 people have the number of minutes equal to zero, 497 people have the number of messages, 11 people have the number of used megabytes. 30% of people used the \"Ultra\" tariff, the rest did not."
   ]
  },
  {
   "cell_type": "markdown",
   "id": "8d883a25",
   "metadata": {},
   "source": [
    "## Divide the data into samples"
   ]
  },
  {
   "cell_type": "markdown",
   "id": "33690496",
   "metadata": {},
   "source": [
    "### Let's denote the features as `features`, and the target feature as `target`"
   ]
  },
  {
   "cell_type": "code",
   "execution_count": 9,
   "id": "eebecc67",
   "metadata": {
    "ExecuteTime": {
     "end_time": "2023-09-04T19:13:38.888204Z",
     "start_time": "2023-09-04T19:13:38.880654Z"
    }
   },
   "outputs": [],
   "source": [
    "features = data.drop(['is_ultra'], axis=1)\n",
    "target = data['is_ultra']"
   ]
  },
  {
   "cell_type": "markdown",
   "id": "89adf274",
   "metadata": {},
   "source": [
    "### We divide the initial data into training, validation and test sets. Let's take the ratio of 60/20/20%, respectively"
   ]
  },
  {
   "cell_type": "code",
   "execution_count": 10,
   "id": "0f78b645",
   "metadata": {
    "ExecuteTime": {
     "end_time": "2023-09-04T19:13:38.910937Z",
     "start_time": "2023-09-04T19:13:38.896933Z"
    }
   },
   "outputs": [],
   "source": [
    "features_train, features_valid, target_train, target_valid = (\n",
    "    train_test_split(\n",
    "        features, target, test_size=0.4,\n",
    "        random_state=12345, stratify = target))"
   ]
  },
  {
   "cell_type": "markdown",
   "id": "a1097f77",
   "metadata": {},
   "source": [
    "We got a training sample = 60%, a validation sample - 40%. Now let's split the validation in half, and get the validation and test"
   ]
  },
  {
   "cell_type": "code",
   "execution_count": 11,
   "id": "a75f889d",
   "metadata": {
    "ExecuteTime": {
     "end_time": "2023-09-04T19:13:38.927070Z",
     "start_time": "2023-09-04T19:13:38.915365Z"
    }
   },
   "outputs": [],
   "source": [
    "features_valid, features_test, target_valid, target_test =(\n",
    "    train_test_split(\n",
    "        features_valid, target_valid, test_size=0.5,\n",
    "        random_state=12345, stratify=target_valid))"
   ]
  },
  {
   "cell_type": "code",
   "execution_count": 12,
   "id": "6bcfad7c",
   "metadata": {
    "ExecuteTime": {
     "end_time": "2023-09-04T19:13:38.938123Z",
     "start_time": "2023-09-04T19:13:38.930661Z"
    }
   },
   "outputs": [
    {
     "name": "stdout",
     "output_type": "stream",
     "text": [
      "Sample size: (1928, 4)\n",
      "Sample size: (643, 4)\n",
      "Sample size: (643, 4)\n",
      "Sample size: (1928,)\n",
      "Sample size: (643,)\n",
      "Sample size: (643,)\n"
     ]
    }
   ],
   "source": [
    "for sample in [features_train, features_valid, features_test, target_train, target_valid, target_test]:\n",
    "    print(f'Sample size: {sample.shape}')"
   ]
  },
  {
   "cell_type": "code",
   "execution_count": 13,
   "id": "22e1d251",
   "metadata": {
    "ExecuteTime": {
     "end_time": "2023-09-04T19:13:38.952380Z",
     "start_time": "2023-09-04T19:13:38.942724Z"
    }
   },
   "outputs": [
    {
     "data": {
      "text/plain": [
       "(1928, 4)"
      ]
     },
     "execution_count": 13,
     "metadata": {},
     "output_type": "execute_result"
    }
   ],
   "source": [
    "features_train.shape"
   ]
  },
  {
   "cell_type": "code",
   "execution_count": 14,
   "id": "642cad7a",
   "metadata": {
    "ExecuteTime": {
     "end_time": "2023-09-04T19:13:38.966335Z",
     "start_time": "2023-09-04T19:13:38.956857Z"
    }
   },
   "outputs": [
    {
     "data": {
      "text/plain": [
       "(643, 4)"
      ]
     },
     "execution_count": 14,
     "metadata": {},
     "output_type": "execute_result"
    }
   ],
   "source": [
    "features_valid.shape"
   ]
  },
  {
   "cell_type": "code",
   "execution_count": 15,
   "id": "55e473a7",
   "metadata": {
    "ExecuteTime": {
     "end_time": "2023-09-04T19:13:38.980124Z",
     "start_time": "2023-09-04T19:13:38.971218Z"
    }
   },
   "outputs": [
    {
     "data": {
      "text/plain": [
       "(643, 4)"
      ]
     },
     "execution_count": 15,
     "metadata": {},
     "output_type": "execute_result"
    }
   ],
   "source": [
    "features_test.shape"
   ]
  },
  {
   "cell_type": "code",
   "execution_count": 16,
   "id": "8616f223",
   "metadata": {
    "ExecuteTime": {
     "end_time": "2023-09-04T19:13:38.993873Z",
     "start_time": "2023-09-04T19:13:38.984652Z"
    }
   },
   "outputs": [
    {
     "data": {
      "text/plain": [
       "(1928,)"
      ]
     },
     "execution_count": 16,
     "metadata": {},
     "output_type": "execute_result"
    }
   ],
   "source": [
    "target_train.shape"
   ]
  },
  {
   "cell_type": "code",
   "execution_count": 17,
   "id": "d1e6fbe7",
   "metadata": {
    "ExecuteTime": {
     "end_time": "2023-09-04T19:13:39.008087Z",
     "start_time": "2023-09-04T19:13:38.998970Z"
    }
   },
   "outputs": [
    {
     "data": {
      "text/plain": [
       "(643,)"
      ]
     },
     "execution_count": 17,
     "metadata": {},
     "output_type": "execute_result"
    }
   ],
   "source": [
    "target_valid.shape"
   ]
  },
  {
   "cell_type": "code",
   "execution_count": 18,
   "id": "62aa3922",
   "metadata": {
    "ExecuteTime": {
     "end_time": "2023-09-04T19:13:39.030044Z",
     "start_time": "2023-09-04T19:13:39.013521Z"
    }
   },
   "outputs": [
    {
     "data": {
      "text/plain": [
       "(643,)"
      ]
     },
     "execution_count": 18,
     "metadata": {},
     "output_type": "execute_result"
    }
   ],
   "source": [
    "target_test.shape"
   ]
  },
  {
   "cell_type": "markdown",
   "id": "38b98fae",
   "metadata": {},
   "source": [
    "## Exploring Models"
   ]
  },
  {
   "cell_type": "markdown",
   "id": "3609ac7e",
   "metadata": {},
   "source": [
    "We have a classification task, so only these models are suitable: decision tree, random forest and logical regression"
   ]
  },
  {
   "cell_type": "markdown",
   "id": "15009e70",
   "metadata": {},
   "source": [
    "Train the model on the training set, evaluate its quality and select hyperparameters on the validation set"
   ]
  },
  {
   "cell_type": "markdown",
   "id": "97151074",
   "metadata": {},
   "source": [
    "### Using a decision tree"
   ]
  },
  {
   "cell_type": "code",
   "execution_count": 19,
   "id": "3a19d573",
   "metadata": {
    "ExecuteTime": {
     "end_time": "2023-09-04T19:13:39.109971Z",
     "start_time": "2023-09-04T19:13:39.035230Z"
    }
   },
   "outputs": [
    {
     "name": "stdout",
     "output_type": "stream",
     "text": [
      "Accuracy of the best model on the validation set: 0.7853810264385692 Tree depth: 5\n"
     ]
    }
   ],
   "source": [
    "best_model = None\n",
    "best_result = 0\n",
    "best_depth = 0\n",
    "for depth in range(1, 6):\n",
    "    model = DecisionTreeClassifier(random_state=12345, max_depth=depth)\n",
    "    model.fit(features_train, target_train) # обучим модель на тренировочной выборке\n",
    "    predictions_valid = model.predict(features_valid) # получим предсказания модели на валидационной выборке\n",
    "    result = accuracy_score(target_valid, predictions_valid) # посчитаем значение метрики accuracy на валидационной выборке\n",
    "    if result > best_result:\n",
    "        best_model = model\n",
    "        best_result = result\n",
    "        best_depth = depth\n",
    "\n",
    "print(\"Accuracy of the best model on the validation set:\", best_result, \"Tree depth:\", best_depth)"
   ]
  },
  {
   "cell_type": "markdown",
   "id": "c1d592dc",
   "metadata": {},
   "source": [
    "Got accuracy 0.78, not bad"
   ]
  },
  {
   "cell_type": "markdown",
   "id": "f0cc2f3f",
   "metadata": {},
   "source": [
    "### Let's try random forest"
   ]
  },
  {
   "cell_type": "markdown",
   "id": "9c513d01",
   "metadata": {},
   "source": [
    "In the case of using `RandomForestClassifier`, when iterating over hyperparameters, we will iterate over `n_estimators` and `max_depth`"
   ]
  },
  {
   "cell_type": "code",
   "execution_count": 20,
   "id": "c9a92895",
   "metadata": {
    "ExecuteTime": {
     "end_time": "2023-09-04T19:13:46.513031Z",
     "start_time": "2023-09-04T19:13:39.114659Z"
    }
   },
   "outputs": [
    {
     "name": "stdout",
     "output_type": "stream",
     "text": [
      "Accuracy of the best model on the validation set: 0.8211508553654744 Number of trees: 40 Max Depth: 9\n"
     ]
    }
   ],
   "source": [
    "best_model = None\n",
    "best_result = 0\n",
    "best_est = 0\n",
    "best_depth = 0\n",
    "for est in range(10, 51, 10):\n",
    "    for depth in range (1, 11):\n",
    "        model = RandomForestClassifier(\n",
    "            random_state=12345, n_estimators=est,\n",
    "            max_depth=depth, criterion='gini') # initialize the model RandomForestRegressor с параметрами random_state=12345, n_estimators=est и max_depth=depth\n",
    "        model.fit(features_train, target_train) # train the model on the training set\n",
    "        predictions_valid = model.predict(features_valid) # get the predictions of the model on the validation выборке\n",
    "        result = accuracy_score(target_valid, predictions_valid) # calculate the value of the accuracy metric на валидационной выборке\n",
    "        if result > best_result:\n",
    "            best_model = model\n",
    "            best_result = result\n",
    "            best_est = est\n",
    "            best_depth = depth\n",
    "\n",
    "print(\"Accuracy of the best model on the validation set:\",\n",
    "      best_result, \"Number of trees:\", best_est, \"Max Depth:\", best_depth)"
   ]
  },
  {
   "cell_type": "markdown",
   "id": "318b09d9",
   "metadata": {},
   "source": [
    "We got an accuracy of 0.82, even better than in the case of the decision tree"
   ]
  },
  {
   "cell_type": "markdown",
   "id": "793e1689",
   "metadata": {},
   "source": [
    "### Now let's check the logistic regression"
   ]
  },
  {
   "cell_type": "code",
   "execution_count": 21,
   "id": "aac1ceb1",
   "metadata": {
    "ExecuteTime": {
     "end_time": "2023-09-04T19:13:46.661251Z",
     "start_time": "2023-09-04T19:13:46.520690Z"
    }
   },
   "outputs": [
    {
     "data": {
      "text/plain": [
       "0.7387247278382582"
      ]
     },
     "execution_count": 21,
     "metadata": {},
     "output_type": "execute_result"
    }
   ],
   "source": [
    "model = LogisticRegression(random_state=12345, solver='lbfgs', max_iter=1000)\n",
    "model.fit(features_train, target_train) #train the model\n",
    "dump(model, 'model_9_1.joblib')\n",
    "predictions_valid = model.predict(features_valid) # get model predictions on the validation set\n",
    "accuracy = accuracy_score(target_valid, predictions_valid)\n",
    "accuracy"
   ]
  },
  {
   "cell_type": "markdown",
   "id": "d21d35e5",
   "metadata": {},
   "source": [
    "We got an accuracy value of 0.74, less than necessary.\n",
    "\n",
    "The best results are for the Random Forest model, and we will consider it further"
   ]
  },
  {
   "cell_type": "markdown",
   "id": "c873716d",
   "metadata": {},
   "source": [
    "## Let's check the model on the test set"
   ]
  },
  {
   "cell_type": "markdown",
   "id": "96673b87",
   "metadata": {},
   "source": [
    "We select the best model on the validation sample, we have a random forest\n",
    "\n",
    "Therefore, now on the test sample we will evaluate this particular model"
   ]
  },
  {
   "cell_type": "code",
   "execution_count": 22,
   "id": "9db72922",
   "metadata": {
    "ExecuteTime": {
     "end_time": "2023-09-04T19:13:54.580318Z",
     "start_time": "2023-09-04T19:13:46.666392Z"
    }
   },
   "outputs": [
    {
     "name": "stdout",
     "output_type": "stream",
     "text": [
      "Accuracy of the best model on the test set: 0.8211508553654744 Number of trees: 20 Depth: 6\n"
     ]
    }
   ],
   "source": [
    "best_model = None\n",
    "best_result = 0\n",
    "for est in range(10, 51, 10):\n",
    "    for depth in range (1, 11):\n",
    "        model = RandomForestClassifier(random_state=12345, n_estimators=est, max_depth = depth) # обучим модель с заданным количеством деревьев\n",
    "        model.fit(features_train, target_train) # train the model on the training set\n",
    "        predictions_test = model.predict(features_test) #make predictions\n",
    "        result = accuracy_score(target_test, predictions_test) # calculate the quality of the model on the test выборке\n",
    "        if result > best_result:\n",
    "            best_model = model # save the best model\n",
    "            best_result = result # save the best value of the accuracy metric on the test data\n",
    "            best_est = est # keep the depth\n",
    "            best_depth = depth # keep the number of trees\n",
    "\n",
    "print(\"Accuracy of the best model on the test set:\",\n",
    "      best_result, \"Number of trees:\", best_est, \"Depth:\", best_depth)"
   ]
  },
  {
   "cell_type": "markdown",
   "id": "46eacdd4",
   "metadata": {},
   "source": [
    "We got a value of 0.82, better than the required minimum of 0.75"
   ]
  },
  {
   "cell_type": "markdown",
   "id": "3c8527c3",
   "metadata": {},
   "source": [
    "## Conclusion"
   ]
  },
  {
   "cell_type": "markdown",
   "id": "ecd1d695",
   "metadata": {},
   "source": [
    "The purpose of the study was to analyze the behavior of customers and create a system of recommendations for a certain tariff - \"Smart\" or \"Ultra\".\n",
    "\n",
    "The classification task was performed. We have built a model that will select the appropriate tariff with the best value of the *accuracy* metric\n",
    "\n",
    "The following models were considered:\n",
    "\n",
    "Decision tree, got the value *accuracy* = 0.78 on the validation set\n",
    "\n",
    "Random forest, got *accuracy* = 0.8211508553654744 on the validation set with number of trees = 40, depth = 9\n",
    "\n",
    "Logistic regression, got the value *accuracy* = 0.74 on the validation set\n",
    "\n",
    "\n",
    "**Having predicted the \"Random Forest\" model on the test sample, we obtained the metric value accuracy = 0.8211508553654744 with hyperparameters n_estimators (number of trees) = 20, depth (depth) = 6**"
   ]
  }
 ],
 "metadata": {
  "ExecuteTimeLog": [
   {
    "duration": 1243,
    "start_time": "2023-02-20T10:35:22.348Z"
   },
   {
    "duration": 31,
    "start_time": "2023-02-20T10:35:23.593Z"
   },
   {
    "duration": 19,
    "start_time": "2023-02-20T10:35:23.625Z"
   },
   {
    "duration": 9,
    "start_time": "2023-02-20T10:35:23.645Z"
   },
   {
    "duration": 21,
    "start_time": "2023-02-20T10:35:23.656Z"
   },
   {
    "duration": 5,
    "start_time": "2023-02-20T10:35:23.679Z"
   },
   {
    "duration": 13,
    "start_time": "2023-02-20T10:35:23.686Z"
   },
   {
    "duration": 13,
    "start_time": "2023-02-20T10:35:23.701Z"
   },
   {
    "duration": 33,
    "start_time": "2023-02-20T10:35:23.716Z"
   },
   {
    "duration": 21,
    "start_time": "2023-02-20T10:35:23.751Z"
   },
   {
    "duration": 5,
    "start_time": "2023-02-20T10:35:23.774Z"
   },
   {
    "duration": 38,
    "start_time": "2023-02-20T10:35:23.780Z"
   },
   {
    "duration": 7,
    "start_time": "2023-02-20T10:35:23.819Z"
   },
   {
    "duration": 3817,
    "start_time": "2023-02-20T10:35:23.828Z"
   },
   {
    "duration": 4,
    "start_time": "2023-02-20T10:35:27.648Z"
   },
   {
    "duration": 85,
    "start_time": "2023-02-20T10:35:27.654Z"
   },
   {
    "duration": 165,
    "start_time": "2023-02-20T10:35:27.741Z"
   },
   {
    "duration": 5,
    "start_time": "2023-02-20T10:46:29.985Z"
   },
   {
    "duration": 3,
    "start_time": "2023-02-20T10:47:12.296Z"
   },
   {
    "duration": 33,
    "start_time": "2023-02-20T10:47:12.301Z"
   },
   {
    "duration": 13,
    "start_time": "2023-02-20T10:47:12.335Z"
   },
   {
    "duration": 11,
    "start_time": "2023-02-20T10:47:12.350Z"
   },
   {
    "duration": 21,
    "start_time": "2023-02-20T10:47:12.363Z"
   },
   {
    "duration": 5,
    "start_time": "2023-02-20T10:47:12.385Z"
   },
   {
    "duration": 12,
    "start_time": "2023-02-20T10:47:12.392Z"
   },
   {
    "duration": 12,
    "start_time": "2023-02-20T10:47:12.406Z"
   },
   {
    "duration": 29,
    "start_time": "2023-02-20T10:47:12.420Z"
   },
   {
    "duration": 5,
    "start_time": "2023-02-20T10:47:12.451Z"
   },
   {
    "duration": 7,
    "start_time": "2023-02-20T10:47:12.457Z"
   },
   {
    "duration": 31,
    "start_time": "2023-02-20T10:47:12.465Z"
   },
   {
    "duration": 4,
    "start_time": "2023-02-20T10:47:12.497Z"
   },
   {
    "duration": 6,
    "start_time": "2023-02-20T10:47:12.502Z"
   },
   {
    "duration": 4,
    "start_time": "2023-02-20T10:47:31.825Z"
   },
   {
    "duration": 3,
    "start_time": "2023-02-20T10:47:35.033Z"
   },
   {
    "duration": 39,
    "start_time": "2023-02-20T10:47:35.038Z"
   },
   {
    "duration": 13,
    "start_time": "2023-02-20T10:47:35.079Z"
   },
   {
    "duration": 12,
    "start_time": "2023-02-20T10:47:35.093Z"
   },
   {
    "duration": 21,
    "start_time": "2023-02-20T10:47:35.107Z"
   },
   {
    "duration": 5,
    "start_time": "2023-02-20T10:47:35.130Z"
   },
   {
    "duration": 19,
    "start_time": "2023-02-20T10:47:35.137Z"
   },
   {
    "duration": 12,
    "start_time": "2023-02-20T10:47:35.158Z"
   },
   {
    "duration": 3,
    "start_time": "2023-02-20T10:47:35.172Z"
   },
   {
    "duration": 9,
    "start_time": "2023-02-20T10:47:35.177Z"
   },
   {
    "duration": 6,
    "start_time": "2023-02-20T10:47:35.187Z"
   },
   {
    "duration": 55,
    "start_time": "2023-02-20T10:47:35.194Z"
   },
   {
    "duration": 5,
    "start_time": "2023-02-20T10:47:35.250Z"
   },
   {
    "duration": 3807,
    "start_time": "2023-02-20T10:47:35.257Z"
   },
   {
    "duration": 4,
    "start_time": "2023-02-20T10:47:39.066Z"
   },
   {
    "duration": 6,
    "start_time": "2023-02-20T10:47:39.072Z"
   },
   {
    "duration": 3,
    "start_time": "2023-02-20T10:48:56.999Z"
   },
   {
    "duration": 33,
    "start_time": "2023-02-20T10:48:57.004Z"
   },
   {
    "duration": 15,
    "start_time": "2023-02-20T10:48:57.038Z"
   },
   {
    "duration": 11,
    "start_time": "2023-02-20T10:48:57.055Z"
   },
   {
    "duration": 21,
    "start_time": "2023-02-20T10:48:57.068Z"
   },
   {
    "duration": 6,
    "start_time": "2023-02-20T10:48:57.091Z"
   },
   {
    "duration": 12,
    "start_time": "2023-02-20T10:48:57.098Z"
   },
   {
    "duration": 44,
    "start_time": "2023-02-20T10:48:57.111Z"
   },
   {
    "duration": 4,
    "start_time": "2023-02-20T10:48:57.156Z"
   },
   {
    "duration": 8,
    "start_time": "2023-02-20T10:48:57.161Z"
   },
   {
    "duration": 5,
    "start_time": "2023-02-20T10:48:57.170Z"
   },
   {
    "duration": 29,
    "start_time": "2023-02-20T10:48:57.177Z"
   },
   {
    "duration": 4,
    "start_time": "2023-02-20T10:48:57.208Z"
   },
   {
    "duration": 3806,
    "start_time": "2023-02-20T10:48:57.215Z"
   },
   {
    "duration": 4,
    "start_time": "2023-02-20T10:49:01.022Z"
   },
   {
    "duration": 29,
    "start_time": "2023-02-20T10:49:01.027Z"
   },
   {
    "duration": 124,
    "start_time": "2023-02-20T10:49:01.058Z"
   },
   {
    "duration": 210,
    "start_time": "2023-02-20T10:49:01.185Z"
   },
   {
    "duration": 4,
    "start_time": "2023-02-20T10:49:01.396Z"
   },
   {
    "duration": 45,
    "start_time": "2023-02-20T11:56:16.551Z"
   },
   {
    "duration": 1109,
    "start_time": "2023-02-20T11:56:25.863Z"
   },
   {
    "duration": 70,
    "start_time": "2023-02-20T11:56:26.974Z"
   },
   {
    "duration": 16,
    "start_time": "2023-02-20T11:56:27.045Z"
   },
   {
    "duration": 10,
    "start_time": "2023-02-20T11:56:27.063Z"
   },
   {
    "duration": 26,
    "start_time": "2023-02-20T11:56:27.075Z"
   },
   {
    "duration": 6,
    "start_time": "2023-02-20T11:56:27.102Z"
   },
   {
    "duration": 29,
    "start_time": "2023-02-20T11:56:27.110Z"
   },
   {
    "duration": 17,
    "start_time": "2023-02-20T11:56:27.141Z"
   },
   {
    "duration": 4,
    "start_time": "2023-02-20T11:56:27.160Z"
   },
   {
    "duration": 7,
    "start_time": "2023-02-20T11:56:27.166Z"
   },
   {
    "duration": 5,
    "start_time": "2023-02-20T11:56:27.175Z"
   },
   {
    "duration": 65,
    "start_time": "2023-02-20T11:56:27.182Z"
   },
   {
    "duration": 6,
    "start_time": "2023-02-20T11:56:27.249Z"
   },
   {
    "duration": 3480,
    "start_time": "2023-02-20T11:56:27.257Z"
   },
   {
    "duration": 4,
    "start_time": "2023-02-20T11:56:30.739Z"
   },
   {
    "duration": 188,
    "start_time": "2023-02-20T11:56:30.745Z"
   },
   {
    "duration": 148,
    "start_time": "2023-02-20T11:56:30.935Z"
   },
   {
    "duration": 1218,
    "start_time": "2023-02-21T09:38:38.783Z"
   },
   {
    "duration": 134,
    "start_time": "2023-02-21T09:38:40.003Z"
   },
   {
    "duration": 24,
    "start_time": "2023-02-21T09:38:40.140Z"
   },
   {
    "duration": 14,
    "start_time": "2023-02-21T09:38:40.167Z"
   },
   {
    "duration": 39,
    "start_time": "2023-02-21T09:38:40.183Z"
   },
   {
    "duration": 7,
    "start_time": "2023-02-21T09:38:40.223Z"
   },
   {
    "duration": 19,
    "start_time": "2023-02-21T09:38:40.232Z"
   },
   {
    "duration": 25,
    "start_time": "2023-02-21T09:38:40.253Z"
   },
   {
    "duration": 5,
    "start_time": "2023-02-21T09:38:40.279Z"
   },
   {
    "duration": 7,
    "start_time": "2023-02-21T09:38:40.287Z"
   },
   {
    "duration": 30,
    "start_time": "2023-02-21T09:38:40.296Z"
   },
   {
    "duration": 54,
    "start_time": "2023-02-21T09:38:40.328Z"
   },
   {
    "duration": 5,
    "start_time": "2023-02-21T09:38:40.384Z"
   },
   {
    "duration": 4095,
    "start_time": "2023-02-21T09:38:40.391Z"
   },
   {
    "duration": 6,
    "start_time": "2023-02-21T09:38:44.488Z"
   },
   {
    "duration": 128,
    "start_time": "2023-02-21T09:38:44.496Z"
   },
   {
    "duration": 198,
    "start_time": "2023-02-21T09:38:44.626Z"
   },
   {
    "duration": 115,
    "start_time": "2023-02-21T09:47:56.235Z"
   },
   {
    "duration": 4,
    "start_time": "2023-02-21T09:48:04.380Z"
   },
   {
    "duration": 5,
    "start_time": "2023-02-21T09:48:16.213Z"
   },
   {
    "duration": 4,
    "start_time": "2023-02-21T09:48:31.991Z"
   },
   {
    "duration": 4,
    "start_time": "2023-02-21T09:48:40.973Z"
   },
   {
    "duration": 4,
    "start_time": "2023-02-21T09:48:59.598Z"
   },
   {
    "duration": 4,
    "start_time": "2023-02-21T09:49:11.213Z"
   },
   {
    "duration": 3,
    "start_time": "2023-02-21T09:49:35.372Z"
   },
   {
    "duration": 4,
    "start_time": "2023-02-21T09:50:36.754Z"
   },
   {
    "duration": 4,
    "start_time": "2023-02-21T09:55:04.857Z"
   },
   {
    "duration": 19,
    "start_time": "2023-02-21T09:55:23.441Z"
   },
   {
    "duration": 7,
    "start_time": "2023-02-21T09:55:32.121Z"
   },
   {
    "duration": 5,
    "start_time": "2023-02-21T09:55:39.159Z"
   },
   {
    "duration": 6,
    "start_time": "2023-02-21T09:56:07.261Z"
   },
   {
    "duration": 17,
    "start_time": "2023-02-21T09:57:34.095Z"
   },
   {
    "duration": 4,
    "start_time": "2023-02-21T09:57:52.894Z"
   },
   {
    "duration": 5,
    "start_time": "2023-02-21T09:58:24.462Z"
   },
   {
    "duration": 39,
    "start_time": "2023-02-21T10:03:22.870Z"
   },
   {
    "duration": 42,
    "start_time": "2023-02-21T10:03:36.362Z"
   },
   {
    "duration": 34,
    "start_time": "2023-02-21T10:03:47.275Z"
   },
   {
    "duration": 47,
    "start_time": "2023-02-21T10:04:02.606Z"
   },
   {
    "duration": 4389,
    "start_time": "2023-02-21T11:04:16.898Z"
   },
   {
    "duration": 4200,
    "start_time": "2023-02-21T11:07:28.862Z"
   },
   {
    "duration": 23,
    "start_time": "2023-02-21T11:08:34.116Z"
   },
   {
    "duration": 54,
    "start_time": "2023-02-21T11:08:54.918Z"
   },
   {
    "duration": 204,
    "start_time": "2023-02-21T11:09:15.535Z"
   },
   {
    "duration": 1914,
    "start_time": "2023-02-21T11:11:50.251Z"
   },
   {
    "duration": 1770,
    "start_time": "2023-02-21T11:12:18.990Z"
   },
   {
    "duration": 4130,
    "start_time": "2023-02-21T11:12:45.819Z"
   },
   {
    "duration": 4235,
    "start_time": "2023-02-21T11:15:01.879Z"
   },
   {
    "duration": 40,
    "start_time": "2023-02-21T11:15:39.208Z"
   },
   {
    "duration": 42,
    "start_time": "2023-02-21T11:16:56.550Z"
   },
   {
    "duration": 51,
    "start_time": "2023-02-21T11:17:16.622Z"
   },
   {
    "duration": 4061,
    "start_time": "2023-02-21T11:18:30.238Z"
   },
   {
    "duration": 4241,
    "start_time": "2023-02-21T11:21:58.175Z"
   },
   {
    "duration": 3755,
    "start_time": "2023-02-21T11:46:36.537Z"
   },
   {
    "duration": 3655,
    "start_time": "2023-02-21T11:47:04.912Z"
   }
  ],
  "kernelspec": {
   "display_name": "Python 3 (ipykernel)",
   "language": "python",
   "name": "python3"
  },
  "language_info": {
   "codemirror_mode": {
    "name": "ipython",
    "version": 3
   },
   "file_extension": ".py",
   "mimetype": "text/x-python",
   "name": "python",
   "nbconvert_exporter": "python",
   "pygments_lexer": "ipython3",
   "version": "3.9.13"
  },
  "toc": {
   "base_numbering": 1,
   "nav_menu": {},
   "number_sections": true,
   "sideBar": true,
   "skip_h1_title": true,
   "title_cell": "Table of Contents",
   "title_sidebar": "Contents",
   "toc_cell": true,
   "toc_position": {},
   "toc_section_display": true,
   "toc_window_display": false
  }
 },
 "nbformat": 4,
 "nbformat_minor": 5
}
